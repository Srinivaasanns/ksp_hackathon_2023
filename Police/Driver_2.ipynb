{
  "cells": [
    {
      "cell_type": "code",
      "source": [
        "# takes two list of urls as input, applies models and generates score of being fraud and clone,\r\n",
        "# returns two lists of dictionaries\r\n",
        "\r\n",
        "from ipynb.fs.full.Clone_Logo import clone_logo\r\n",
        "from ipynb.fs.full.Clone_Desc import clone_desc\r\n",
        "from ipynb.fs.full.Fraud_Desc import fraud_desc\r\n",
        "from ipynb.fs.full.Fraud_Vers import fraud_vers\r\n",
        "from ipynb.fs.full.Fraud_Reply import fraud_reply\r\n",
        "from ipynb.fs.full.Fraud_Dev import fraud_dev\r\n",
        "from ipynb.fs.full.Fraud_Metrics import fraud_metrics\r\n",
        "from ipynb.fs.full.Fraud_Review import fraud_review\r\n",
        "\r\n",
        "def driver_2(id_inputs, id_database):\r\n",
        "\r\n",
        "    flist = []\r\n",
        "    clist = []\r\n",
        "\r\n",
        "    fraud_version_list = fraud_vers(id_inputs)\r\n",
        "    fraud_reply_list = fraud_reply(id_inputs)\r\n",
        "    i = 0\r\n",
        "\r\n",
        "    for app_id in id_inputs:\r\n",
        "        # run app_id with models\r\n",
        "\r\n",
        "        ifdict = dict()\r\n",
        "        icdict = dict()   \r\n",
        "\r\n",
        "        dpath1 = 'buffers/logo1.png'\r\n",
        "        dpath2 = 'buffers/logo2.png'\r\n",
        "\r\n",
        "        # clone:\r\n",
        "        \r\n",
        "        cval_logo, cval_logo_id = clone_logo(app_id,id_database,dpath1,dpath2)\r\n",
        "        cval_desc, cval_desc_id = clone_desc(app_id,id_database)\r\n",
        "\r\n",
        "        cflag = 1\r\n",
        "        if cval_logo == 0 and cval_desc != 0 :\r\n",
        "            cval_total = cval_desc\r\n",
        "            cval_max = 'Matching Description'\r\n",
        "            cval_id = cval_desc_id\r\n",
        "        elif cval_desc == 0 and cval_logo != 0:\r\n",
        "            cval_total = cval_logo\r\n",
        "            cval_max = 'Matching Logo'\r\n",
        "            cval_id = cval_logo_id\r\n",
        "        elif cval_desc != 0 and cval_logo != 0:\r\n",
        "            if cval_logo > cval_desc:\r\n",
        "                cval_total = cval_logo\r\n",
        "                cval_max = 'Matching Logo'\r\n",
        "                cval_id = cval_logo_id\r\n",
        "            else:\r\n",
        "                cval_total = cval_desc\r\n",
        "                cval_max = 'Matching Description'\r\n",
        "                cval_id = cval_desc_id\r\n",
        "        else:\r\n",
        "            cval_id = 0\r\n",
        "            cval_max = 0\r\n",
        "            cval_total = 0\r\n",
        "            cflag = 0\r\n",
        "\r\n",
        "        icdict['App_Id_Clone'] = app_id\r\n",
        "        icdict['App_Id_Real'] = cval_id\r\n",
        "        icdict['App_Id_Reason'] = cval_max\r\n",
        "        icdict['App_Id_Attribute'] = cval_total\r\n",
        "\r\n",
        "        # fraud:\r\n",
        "\r\n",
        "        fval_review = fraud_review(app_id)\r\n",
        "        fval_metrics = fraud_metrics(app_id)\r\n",
        "        fval_verion = fraud_version_list[i]\r\n",
        "        fval_reply = fraud_reply_list[i]\r\n",
        "        fval_description = fraud_desc(app_id)\r\n",
        "        fval_developer = fraud_dev(app_id,id_database)\r\n",
        "        # fval_permission = 0\r\n",
        "\r\n",
        "        fval_total = 0\r\n",
        "        fval_max = ''\r\n",
        "\r\n",
        "        fflag = 1\r\n",
        "        \r\n",
        "        # weightage and fflag\r\n",
        "\r\n",
        "        ifdict['App_Id'] = app_id\r\n",
        "        ifdict['Reason'] = fval_max \r\n",
        "        ifdict['Probability'] = fval_total\r\n",
        "\r\n",
        "        if fflag:\r\n",
        "            flist.append(ifdict)\r\n",
        "        if cflag:\r\n",
        "            clist.append(icdict)\r\n",
        "\r\n",
        "        i += 1\r\n",
        "\r\n",
        "    return flist, clist"
      ],
      "outputs": [],
      "execution_count": 5,
      "metadata": {
        "jupyter": {
          "source_hidden": false,
          "outputs_hidden": false
        },
        "nteract": {
          "transient": {
            "deleting": false
          }
        },
        "gather": {
          "logged": 1675558854860
        }
      }
    }
  ],
  "metadata": {
    "kernelspec": {
      "name": "python310-sdkv2",
      "language": "python",
      "display_name": "Python 3.10 - SDK v2"
    },
    "language_info": {
      "name": "python",
      "version": "3.10.9",
      "mimetype": "text/x-python",
      "codemirror_mode": {
        "name": "ipython",
        "version": 3
      },
      "pygments_lexer": "ipython3",
      "nbconvert_exporter": "python",
      "file_extension": ".py"
    },
    "kernel_info": {
      "name": "python310-sdkv2"
    },
    "microsoft": {
      "host": {
        "AzureML": {
          "notebookHasBeenCompleted": true
        }
      }
    },
    "nteract": {
      "version": "nteract-front-end@1.0.0"
    }
  },
  "nbformat": 4,
  "nbformat_minor": 2
}